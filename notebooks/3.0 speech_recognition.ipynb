{
 "cells": [
  {
   "cell_type": "markdown",
   "source": [
    "# Speech Recognition\n"
   ],
   "metadata": {}
  },
  {
   "cell_type": "markdown",
   "source": [
    "## Imports"
   ],
   "metadata": {}
  },
  {
   "cell_type": "code",
   "execution_count": 110,
   "source": [
    "import cv2\n",
    "import pickle\n",
    "import librosa\n",
    "import warnings\n",
    "import numpy as np\n",
    "import pandas as pd\n",
    "import seaborn as sns\n",
    "import plotly.io as pio\n",
    "import plotly.express as px\n",
    "import matplotlib.pyplot as plt\n",
    "from IPython.display import Image\n",
    "import plotly.graph_objects as go\n",
    "\n",
    "import tensorflow as tf\n",
    "from tensorflow.keras.layers import *\n",
    "from tensorflow.keras.models import Model, Sequential\n",
    "from tensorflow.keras.preprocessing.text import Tokenizer\n",
    "from tensorflow.keras.preprocessing.sequence import pad_sequences\n",
    "from tensorflow.keras.optimizers import SGD, Adam, RMSprop\n",
    "from tensorflow.keras.callbacks import Callback, EarlyStopping, ModelCheckpoint, TensorBoard\n"
   ],
   "outputs": [],
   "metadata": {}
  },
  {
   "cell_type": "code",
   "execution_count": 111,
   "source": [
    "sns.set()\n",
    "plt.style.use('ggplot')\n",
    "%matplotlib inline\n",
    "warnings.filterwarnings(\"ignore\")\n",
    "pd.set_option('display.max_columns', None)\n",
    "pd.set_option('display.max_colwidth', None)\n",
    "pd.set_option(\"expand_frame_repr\", False)\n",
    "pd.set_option('display.float_format', '{:.2f}'.format)\n",
    "sys.path.append(os.path.abspath(os.path.join('../scripts')))"
   ],
   "outputs": [],
   "metadata": {}
  },
  {
   "cell_type": "code",
   "execution_count": 112,
   "source": [
    "from clean_audio import CleanAudio\n",
    "from file_handler import FileHandler\n",
    "from audio_vis import AudioVis"
   ],
   "outputs": [],
   "metadata": {}
  },
  {
   "cell_type": "code",
   "execution_count": 113,
   "source": [
    "clean_audio = CleanAudio()\n",
    "file_handler = FileHandler()\n",
    "audio_vis = AudioVis()"
   ],
   "outputs": [],
   "metadata": {}
  },
  {
   "cell_type": "markdown",
   "source": [
    "## Load Data\n"
   ],
   "metadata": {}
  },
  {
   "cell_type": "code",
   "execution_count": 114,
   "source": [
    "PATH_TRAIN_WAV = \"../data/AMHARIC_CLEAN/train/wav/\"\n",
    "PATH_TEST_WAV = \"../data/AMHARIC_CLEAN/test/wav/\""
   ],
   "outputs": [],
   "metadata": {}
  },
  {
   "cell_type": "code",
   "execution_count": 115,
   "source": [
    "data = pd.read_csv(r'../data/final_data.csv')\n",
    "data.head(5)"
   ],
   "outputs": [
    {
     "output_type": "execute_result",
     "data": {
      "text/plain": [
       "   Unnamed: 0                key                                                                 text  char_length  duration  speed category\n",
       "0           0  tr_10000_tr097082  የተለያዩ የትግራይ አውራጃ ተወላጆች ገንዘባቸውን አዋጥተው የልማት ተቋማትን እንዲመሰርቱ ትልማ አይፈቅድ ም           67      7.42   9.02    Train\n",
       "1           1  tr_10001_tr097083                                 የጠመንጃ ተኩስ ተከፈተና አራት የኤርትራ ወታደሮች ተገደሉ           36      4.67   7.71    Train\n",
       "2           2  tr_10002_tr097084                                       ላነሷቸው ጥያቄዎች የሰጡትን መልስ አቅርበ ነዋል           30      4.67   6.42    Train\n",
       "3           3  tr_10003_tr097085                               እብዱ አስፋልቱ ላይየ ኰለኰ ለው ድንጋይ መኪና አላሳልፍ አለ           38      4.42   8.61    Train\n",
       "4           4  tr_10004_tr097086                                  ጠጁን ኰ መኰ መ ኰ መኰ መና ሚስቱን ሲ ያሰቃያት አደረ           35      4.22   8.29    Train"
      ],
      "text/html": [
       "<div>\n",
       "<style scoped>\n",
       "    .dataframe tbody tr th:only-of-type {\n",
       "        vertical-align: middle;\n",
       "    }\n",
       "\n",
       "    .dataframe tbody tr th {\n",
       "        vertical-align: top;\n",
       "    }\n",
       "\n",
       "    .dataframe thead th {\n",
       "        text-align: right;\n",
       "    }\n",
       "</style>\n",
       "<table border=\"1\" class=\"dataframe\">\n",
       "  <thead>\n",
       "    <tr style=\"text-align: right;\">\n",
       "      <th></th>\n",
       "      <th>Unnamed: 0</th>\n",
       "      <th>key</th>\n",
       "      <th>text</th>\n",
       "      <th>char_length</th>\n",
       "      <th>duration</th>\n",
       "      <th>speed</th>\n",
       "      <th>category</th>\n",
       "    </tr>\n",
       "  </thead>\n",
       "  <tbody>\n",
       "    <tr>\n",
       "      <th>0</th>\n",
       "      <td>0</td>\n",
       "      <td>tr_10000_tr097082</td>\n",
       "      <td>የተለያዩ የትግራይ አውራጃ ተወላጆች ገንዘባቸውን አዋጥተው የልማት ተቋማትን እንዲመሰርቱ ትልማ አይፈቅድ ም</td>\n",
       "      <td>67</td>\n",
       "      <td>7.42</td>\n",
       "      <td>9.02</td>\n",
       "      <td>Train</td>\n",
       "    </tr>\n",
       "    <tr>\n",
       "      <th>1</th>\n",
       "      <td>1</td>\n",
       "      <td>tr_10001_tr097083</td>\n",
       "      <td>የጠመንጃ ተኩስ ተከፈተና አራት የኤርትራ ወታደሮች ተገደሉ</td>\n",
       "      <td>36</td>\n",
       "      <td>4.67</td>\n",
       "      <td>7.71</td>\n",
       "      <td>Train</td>\n",
       "    </tr>\n",
       "    <tr>\n",
       "      <th>2</th>\n",
       "      <td>2</td>\n",
       "      <td>tr_10002_tr097084</td>\n",
       "      <td>ላነሷቸው ጥያቄዎች የሰጡትን መልስ አቅርበ ነዋል</td>\n",
       "      <td>30</td>\n",
       "      <td>4.67</td>\n",
       "      <td>6.42</td>\n",
       "      <td>Train</td>\n",
       "    </tr>\n",
       "    <tr>\n",
       "      <th>3</th>\n",
       "      <td>3</td>\n",
       "      <td>tr_10003_tr097085</td>\n",
       "      <td>እብዱ አስፋልቱ ላይየ ኰለኰ ለው ድንጋይ መኪና አላሳልፍ አለ</td>\n",
       "      <td>38</td>\n",
       "      <td>4.42</td>\n",
       "      <td>8.61</td>\n",
       "      <td>Train</td>\n",
       "    </tr>\n",
       "    <tr>\n",
       "      <th>4</th>\n",
       "      <td>4</td>\n",
       "      <td>tr_10004_tr097086</td>\n",
       "      <td>ጠጁን ኰ መኰ መ ኰ መኰ መና ሚስቱን ሲ ያሰቃያት አደረ</td>\n",
       "      <td>35</td>\n",
       "      <td>4.22</td>\n",
       "      <td>8.29</td>\n",
       "      <td>Train</td>\n",
       "    </tr>\n",
       "  </tbody>\n",
       "</table>\n",
       "</div>"
      ]
     },
     "metadata": {},
     "execution_count": 115
    }
   ],
   "metadata": {}
  },
  {
   "cell_type": "code",
   "execution_count": 116,
   "source": [
    "def get_paths(df):\n",
    "  paths = []\n",
    "  for col, row in df.iterrows():\n",
    "    if(row[\"category\"] == \"Train\"):\n",
    "      paths.append(PATH_TRAIN_WAV + row[\"key\"] + \".npy\")\n",
    "    else:\n",
    "      paths.append(PATH_TEST_WAV + row[\"key\"] + \".npy\")\n",
    "\n",
    "  return paths"
   ],
   "outputs": [],
   "metadata": {}
  },
  {
   "cell_type": "code",
   "execution_count": 117,
   "source": [
    "data[\"path\"] = get_paths(data)\n",
    "data.sort_values(by=[\"duration\"], inplace=True)\n",
    "data.reset_index(drop=True, inplace=True)\n",
    "data = data[[\"text\", \"char_length\", \"duration\", \"path\"]]\n",
    "data[[\"text\", \"char_length\", \"duration\"]]"
   ],
   "outputs": [
    {
     "output_type": "execute_result",
     "data": {
      "text/plain": [
       "                                                                                                                          text  char_length  duration\n",
       "0                                                                                                                ሼራተን አዲስ ተመረቀ           13      2.05\n",
       "1                                                                                                               ፖሊሱ እስረኞቹን ቆጠረ           14      2.05\n",
       "2                                                                                                            ይህ ቀስ በቀስ እያደገ ሄደ           17      2.05\n",
       "3                                                                                                            ኢነጋማ ህጋዊ እውቅና አገኘ           17      2.05\n",
       "4                                                                                                         በተጨባጭ ስና የው ግን ባዶ ነው           20      2.05\n",
       "...                                                                                                                        ...          ...       ...\n",
       "10669                       ቦናፓርቲ ያዊ ያልሆኑ ብዛት ያላቸው ጸረ ህዝብ መንግስታት በጸረ ዴሞከራሲ ና በሙስና ውስጥ ሲዘፈቁ እንደሚታዩ ለማወቅ ትንሽ አስተውሎት ን ነው የሚ ጠይቀው           98     13.95\n",
       "10670                                ከዚህ እጅግዘመናዊ ና ውድ ሰአት ሽያጭ ትርፍ ሶስት በመቶ በቋሚነት ሳኦ ክሪስቶ ቮል ፋውንዴሽን ለተባለው የሮናልዶ የእርዳታ ድርጅት ይው ላል           89     13.95\n",
       "10671                                   ይልቁንም በተለመደው አኳኋን ከሚኒስትሩ በታች መሆን ያለበት ኤታማዦር ሹም በቀጥታ ሪፖርት የሚያደርገውና ተጠሪነቱ ለጠቅላይ ሚኒስትሩ ነው           86     13.95\n",
       "10672  ፕሮጀክቱን ለማዘጋጀትና ለማቀነባበር እንዲሁም ጥናቱና ዲዛይኑን ተግባራዊ ለማድረግ እንዲቻል ከሶስቱም ሀገሮች የተውጣጡ ባለሙያዎች ያሉት የፕሮጀክት ጽፈት ቤት እንደሚኖርም ሚኒስትሩ ገልጸዋል          119     13.95\n",
       "10673                                    ከዚያም ቀድሞ የተማሩበት የሀንጋሪ ው ኮሌጅ ወደ ዩንቨርስቲ ነት በመቀየሩ ወደዚያው በመጓዝ የፒኤችዲ ዶክትሬት ዲግሪያቸውን ተቀብለ ዋል           85     13.95\n",
       "\n",
       "[10674 rows x 3 columns]"
      ],
      "text/html": [
       "<div>\n",
       "<style scoped>\n",
       "    .dataframe tbody tr th:only-of-type {\n",
       "        vertical-align: middle;\n",
       "    }\n",
       "\n",
       "    .dataframe tbody tr th {\n",
       "        vertical-align: top;\n",
       "    }\n",
       "\n",
       "    .dataframe thead th {\n",
       "        text-align: right;\n",
       "    }\n",
       "</style>\n",
       "<table border=\"1\" class=\"dataframe\">\n",
       "  <thead>\n",
       "    <tr style=\"text-align: right;\">\n",
       "      <th></th>\n",
       "      <th>text</th>\n",
       "      <th>char_length</th>\n",
       "      <th>duration</th>\n",
       "    </tr>\n",
       "  </thead>\n",
       "  <tbody>\n",
       "    <tr>\n",
       "      <th>0</th>\n",
       "      <td>ሼራተን አዲስ ተመረቀ</td>\n",
       "      <td>13</td>\n",
       "      <td>2.05</td>\n",
       "    </tr>\n",
       "    <tr>\n",
       "      <th>1</th>\n",
       "      <td>ፖሊሱ እስረኞቹን ቆጠረ</td>\n",
       "      <td>14</td>\n",
       "      <td>2.05</td>\n",
       "    </tr>\n",
       "    <tr>\n",
       "      <th>2</th>\n",
       "      <td>ይህ ቀስ በቀስ እያደገ ሄደ</td>\n",
       "      <td>17</td>\n",
       "      <td>2.05</td>\n",
       "    </tr>\n",
       "    <tr>\n",
       "      <th>3</th>\n",
       "      <td>ኢነጋማ ህጋዊ እውቅና አገኘ</td>\n",
       "      <td>17</td>\n",
       "      <td>2.05</td>\n",
       "    </tr>\n",
       "    <tr>\n",
       "      <th>4</th>\n",
       "      <td>በተጨባጭ ስና የው ግን ባዶ ነው</td>\n",
       "      <td>20</td>\n",
       "      <td>2.05</td>\n",
       "    </tr>\n",
       "    <tr>\n",
       "      <th>...</th>\n",
       "      <td>...</td>\n",
       "      <td>...</td>\n",
       "      <td>...</td>\n",
       "    </tr>\n",
       "    <tr>\n",
       "      <th>10669</th>\n",
       "      <td>ቦናፓርቲ ያዊ ያልሆኑ ብዛት ያላቸው ጸረ ህዝብ መንግስታት በጸረ ዴሞከራሲ ና በሙስና ውስጥ ሲዘፈቁ እንደሚታዩ ለማወቅ ትንሽ አስተውሎት ን ነው የሚ ጠይቀው</td>\n",
       "      <td>98</td>\n",
       "      <td>13.95</td>\n",
       "    </tr>\n",
       "    <tr>\n",
       "      <th>10670</th>\n",
       "      <td>ከዚህ እጅግዘመናዊ ና ውድ ሰአት ሽያጭ ትርፍ ሶስት በመቶ በቋሚነት ሳኦ ክሪስቶ ቮል ፋውንዴሽን ለተባለው የሮናልዶ የእርዳታ ድርጅት ይው ላል</td>\n",
       "      <td>89</td>\n",
       "      <td>13.95</td>\n",
       "    </tr>\n",
       "    <tr>\n",
       "      <th>10671</th>\n",
       "      <td>ይልቁንም በተለመደው አኳኋን ከሚኒስትሩ በታች መሆን ያለበት ኤታማዦር ሹም በቀጥታ ሪፖርት የሚያደርገውና ተጠሪነቱ ለጠቅላይ ሚኒስትሩ ነው</td>\n",
       "      <td>86</td>\n",
       "      <td>13.95</td>\n",
       "    </tr>\n",
       "    <tr>\n",
       "      <th>10672</th>\n",
       "      <td>ፕሮጀክቱን ለማዘጋጀትና ለማቀነባበር እንዲሁም ጥናቱና ዲዛይኑን ተግባራዊ ለማድረግ እንዲቻል ከሶስቱም ሀገሮች የተውጣጡ ባለሙያዎች ያሉት የፕሮጀክት ጽፈት ቤት እንደሚኖርም ሚኒስትሩ ገልጸዋል</td>\n",
       "      <td>119</td>\n",
       "      <td>13.95</td>\n",
       "    </tr>\n",
       "    <tr>\n",
       "      <th>10673</th>\n",
       "      <td>ከዚያም ቀድሞ የተማሩበት የሀንጋሪ ው ኮሌጅ ወደ ዩንቨርስቲ ነት በመቀየሩ ወደዚያው በመጓዝ የፒኤችዲ ዶክትሬት ዲግሪያቸውን ተቀብለ ዋል</td>\n",
       "      <td>85</td>\n",
       "      <td>13.95</td>\n",
       "    </tr>\n",
       "  </tbody>\n",
       "</table>\n",
       "<p>10674 rows × 3 columns</p>\n",
       "</div>"
      ]
     },
     "metadata": {},
     "execution_count": 117
    }
   ],
   "metadata": {}
  },
  {
   "cell_type": "markdown",
   "source": [
    "## Tokenizer"
   ],
   "metadata": {}
  },
  {
   "cell_type": "code",
   "execution_count": 75,
   "source": [
    "class TokenizerWrap(Tokenizer):\n",
    "    def __init__(self, texts, padding, len_sent, filters, reverse=False):\n",
    "        Tokenizer.__init__(self, filters=filters, char_level=True)\n",
    "\n",
    "        self.len_sent = len_sent\n",
    "        self.fit_on_texts(texts)\n",
    "\n",
    "        self.index_to_word = dict(zip(self.word_index.values(), self.word_index.keys()))\n",
    "        self.tokens = self.texts_to_sequences(texts)\n",
    "\n",
    "        if reverse:\n",
    "            self.tokens = [list(reversed(x)) for x in self.tokens]\n",
    "            truncating = 'pre'\n",
    "        else:\n",
    "            truncating = 'post'\n",
    "\n",
    "        self.tokens_padded = pad_sequences(self.tokens,\n",
    "                                           maxlen=len_sent,\n",
    "                                           padding=padding,\n",
    "                                           truncating=truncating\n",
    "                                           )\n",
    "\n",
    "    def token_to_word(self, token):\n",
    "        word = \" \" if token == 0 else self.index_to_word[token]\n",
    "        return word\n",
    "\n",
    "    def tokens_to_string(self, tokens):\n",
    "        words = [self.index_to_word[token] for token in tokens if token != 0]\n",
    "        text = \"\".join(words)\n",
    "        return text\n",
    "\n",
    "    def text_to_tokens(self, text, reverse=False, padding=False):\n",
    "        tokens = self.texts_to_sequences([text])\n",
    "        tokens = np.array(tokens)\n",
    "\n",
    "        if reverse:\n",
    "            tokens = np.flip(tokens, axis=1)\n",
    "            truncating = 'pre'\n",
    "        else:\n",
    "            truncating = 'post'\n",
    "\n",
    "        if padding:\n",
    "            tokens = pad_sequences(tokens,\n",
    "                                   maxlen=self.len_sent,\n",
    "                                   padding=truncating,\n",
    "                                   truncating=truncating\n",
    "                                   )\n",
    "        return tokens\n"
   ],
   "outputs": [],
   "metadata": {}
  },
  {
   "cell_type": "code",
   "execution_count": 8,
   "source": [
    "MAX_SENTENCE_LENGTH = 125       # The longest sentence in the data is around 150 chars\n",
    "filters = '!\"#$%&()*+,-./:;<=>?@[\\\\]^_`{|}~\\t\\n።”፤፦’፥'  # { ።”፤፦’፥' } unique for amharic"
   ],
   "outputs": [],
   "metadata": {}
  },
  {
   "cell_type": "code",
   "execution_count": 9,
   "source": [
    "%%time\n",
    "tokenizer = TokenizerWrap(texts=data.text,\n",
    "                          padding='post',\n",
    "                          reverse=False,\n",
    "                          len_sent=MAX_SENTENCE_LENGTH,\n",
    "                          filters=filters)"
   ],
   "outputs": [
    {
     "output_type": "stream",
     "name": "stdout",
     "text": [
      "CPU times: user 494 ms, sys: 8.66 ms, total: 503 ms\n",
      "Wall time: 524 ms\n"
     ]
    }
   ],
   "metadata": {}
  },
  {
   "cell_type": "code",
   "execution_count": 10,
   "source": [
    "print(len(tokenizer.word_index))\n",
    "print(tokenizer.word_index)"
   ],
   "outputs": [
    {
     "output_type": "stream",
     "name": "stdout",
     "text": [
      "222\n",
      "{' ': 1, 'ን': 2, 'ት': 3, 'ው': 4, 'ስ': 5, 'ያ': 6, 'የ': 7, 'ተ': 8, 'በ': 9, 'አ': 10, 'ል': 11, 'እ': 12, 'ለ': 13, 'ር': 14, 'መ': 15, 'ም': 16, 'ች': 17, 'ና': 18, 'ደ': 19, 'ነ': 20, 'ገ': 21, 'ማ': 22, 'ባ': 23, 'ይ': 24, 'ሚ': 25, 'ግ': 26, 'ራ': 27, 'ቸ': 28, 'ላ': 29, 'ብ': 30, 'ድ': 31, 'ረ': 32, 'ሰ': 33, 'ከ': 34, 'ወ': 35, 'ኢ': 36, 'ታ': 37, 'ዳ': 38, 'ክ': 39, 'ዮ': 40, 'ዋ': 41, 'ህ': 42, 'ጵ': 43, 'ጥ': 44, 'ቀ': 45, 'ሪ': 46, 'ጠ': 47, 'ቅ': 48, 'ዲ': 49, 'ሳ': 50, 'ዎ': 51, 'ሮ': 52, 'ሩ': 53, 'ሉ': 54, 'ሆ': 55, 'ሁ': 56, 'ጋ': 57, 'ሊ': 58, 'ቶ': 59, 'ካ': 60, 'ፈ': 61, 'ጣ': 62, 'ፍ': 63, 'ሀ': 64, 'ሞ': 65, 'ሽ': 66, 'ዊ': 67, 'ዘ': 68, 'ቱ': 69, 'ሬ': 70, 'ኤ': 71, 'ኮ': 72, 'ሎ': 73, 'ኛ': 74, 'ዛ': 75, 'ሲ': 76, 'ቃ': 77, 'ጉ': 78, 'ቡ': 79, 'ቻ': 80, 'ዝ': 81, 'ፕ': 82, 'ቢ': 83, 'ዚ': 84, 'ኑ': 85, 'ሙ': 86, 'ሶ': 87, 'ጀ': 88, 'ቁ': 89, 'ኖ': 90, 'ኩ': 91, 'ቋ': 92, 'ሌ': 93, 'ቤ': 94, 'ሱ': 95, 'ኒ': 96, 'ቹ': 97, 'ኝ': 98, 'ጸ': 99, 'ዱ': 100, 'ቲ': 101, 'ጅ': 102, 'ሸ': 103, 'ዜ': 104, 'ቴ': 105, 'ቆ': 106, 'ዙ': 107, 'ዴ': 108, 'ኔ': 109, 'ጡ': 110, 'ኙ': 111, 'ፋ': 112, 'ዶ': 113, 'ጐ': 114, 'ጫ': 115, 'ፊ': 116, 'ጽ': 117, 'ጃ': 118, 'ጊ': 119, 'ጻ': 120, 'ኞ': 121, 'ሄ': 122, 'ጨ': 123, 'ቦ': 124, 'ሴ': 125, 'ዩ': 126, 'ኦ': 127, 'ፖ': 128, 'ሻ': 129, 'ሜ': 130, 'ፓ': 131, 'ጭ': 132, 'ኳ': 133, 'ኘ': 134, 'ቷ': 135, 'ጂ': 136, 'ጓ': 137, 'ቂ': 138, 'ፌ': 139, 'ፉ': 140, 'ኬ': 141, 'ኪ': 142, 'ጦ': 143, 'ዬ': 144, 'ሏ': 145, 'ሺ': 146, 'ፒ': 147, 'ፎ': 148, 'ጆ': 149, 'ሂ': 150, 'ቾ': 151, 'ቨ': 152, 'ጹ': 153, 'ሟ': 154, 'ጤ': 155, 'ሹ': 156, 'ጮ': 157, 'ዞ': 158, 'ቄ': 159, 'ጪ': 160, 'ሯ': 161, 'ኗ': 162, 'ኋ': 163, 'ጄ': 164, 'ቧ': 165, 'ሷ': 166, 'ኡ': 167, 'ሾ': 168, 'ጿ': 169, 'ቪ': 170, 'ጁ': 171, 'ኰ': 172, 'ፏ': 173, 'ዥ': 174, 'ጳ': 175, 'ጌ': 176, 'ጧ': 177, 'ፐ': 178, 'ኸ': 179, 'ፔ': 180, 'ቬ': 181, 'ዷ': 182, 'ዪ': 183, 'ቼ': 184, 'ቺ': 185, 'ጩ': 186, 'ዟ': 187, 'ሼ': 188, 'ቫ': 189, 'ዤ': 190, 'ዌ': 191, 'ጾ': 192, 'ቭ': 193, 'ኟ': 194, 'ሿ': 195, 'ጼ': 196, 'ኜ': 197, 'ጬ': 198, 'ዢ': 199, 'ጯ': 200, 'ጺ': 201, 'ፑ': 202, 'ጶ': 203, 'ዡ': 204, 'ጢ': 205, 'ኚ': 206, 'ቿ': 207, 'ጇ': 208, 'ጴ': 209, 'ዉ': 210, 'ጰ': 211, 'ዧ': 212, 'ጔ': 213, 'ዣ': 214, 'ዦ': 215, 'ዠ': 216, 'ቩ': 217, 'ቮ': 218, 'ኲ': 219, 'ጲ': 220, 'ጱ': 221, 'ቯ': 222}\n"
     ]
    }
   ],
   "metadata": {}
  },
  {
   "cell_type": "code",
   "execution_count": 11,
   "source": [
    "data.text[1]"
   ],
   "outputs": [
    {
     "output_type": "execute_result",
     "data": {
      "text/plain": [
       "'የጠመንጃ ተኩስ ተከፈተና አራት የኤርትራ ወታደሮች ተገደሉ'"
      ]
     },
     "metadata": {},
     "execution_count": 11
    }
   ],
   "metadata": {}
  },
  {
   "cell_type": "code",
   "execution_count": 12,
   "source": [
    "sample = tokenizer.text_to_tokens(data.text[1], padding=True)\n",
    "sample"
   ],
   "outputs": [
    {
     "output_type": "execute_result",
     "data": {
      "text/plain": [
       "array([[  7,  47,  15,   2, 118,   1,   8,  91,   5,   1,   8,  34,  61,\n",
       "          8,  18,   1,  10,  27,   3,   1,   7,  71,  14,   3,  27,   1,\n",
       "         35,  37,  19,  52,  17,   1,   8,  21,  19,  54,   0,   0,   0,\n",
       "          0,   0,   0,   0,   0,   0,   0,   0,   0,   0,   0,   0,   0,\n",
       "          0,   0,   0,   0,   0,   0,   0,   0,   0,   0,   0,   0,   0,\n",
       "          0,   0,   0,   0,   0,   0,   0,   0,   0,   0,   0,   0,   0,\n",
       "          0,   0,   0,   0,   0,   0,   0,   0,   0,   0,   0,   0,   0,\n",
       "          0,   0,   0,   0,   0,   0,   0,   0,   0,   0,   0,   0,   0,\n",
       "          0,   0,   0,   0,   0,   0,   0,   0,   0,   0,   0,   0,   0,\n",
       "          0,   0,   0,   0,   0,   0,   0,   0]], dtype=int32)"
      ]
     },
     "metadata": {},
     "execution_count": 12
    }
   ],
   "metadata": {}
  },
  {
   "cell_type": "code",
   "execution_count": 13,
   "source": [
    "print(tokenizer.tokens_to_string(sample[0]))"
   ],
   "outputs": [
    {
     "output_type": "stream",
     "name": "stdout",
     "text": [
      "የጠመንጃ ተኩስ ተከፈተና አራት የኤርትራ ወታደሮች ተገደሉ\n"
     ]
    }
   ],
   "metadata": {}
  },
  {
   "cell_type": "markdown",
   "source": [
    "save token"
   ],
   "metadata": {}
  },
  {
   "cell_type": "code",
   "execution_count": 14,
   "source": [
    "with open('../models/char_tokenizer_amharic.pickle', 'wb') as handle:\n",
    "    pickle.dump(tokenizer, handle)"
   ],
   "outputs": [],
   "metadata": {}
  },
  {
   "cell_type": "markdown",
   "source": [
    "## Data Augmentation"
   ],
   "metadata": {}
  },
  {
   "cell_type": "code",
   "execution_count": 27,
   "source": [
    "class AudioAugment():\n",
    "  def __init__(self):\n",
    "    pass\n",
    "   \n",
    "  def change_speed(self, data):\n",
    "    speed_rate = np.random.uniform(0.8, 1.2)\n",
    "    wav_speed_tune = cv2.resize(data, (1, int(len(data) * speed_rate))).squeeze()\n",
    "\n",
    "    if len(wav_speed_tune) < len(data):\n",
    "      padding = len(data) - len(wav_speed_tune)\n",
    "      offset = padding // 2\n",
    "      wav_speed_tune = np.pad(wav_speed_tune, (offset, padding - offset), \"constant\")\n",
    "    else:\n",
    "      wav_speed_tune = wav_speed_tune[:len(data)]\n",
    "\n",
    "    return wav_speed_tune\n",
    "\n",
    "  def add_noise(self, data, noise_levels=(0, 0.3)):\n",
    "    noise_level = np.random.uniform(*noise_levels)\n",
    "    noise = np.random.randn(len(data))\n",
    "    data_noise = data + noise_level * noise\n",
    "\n",
    "    return data_noise\n",
    "\n",
    "  def change_pitch(self, data):\n",
    "    n_steps = np.random.randint(-1, 2)\n",
    "    return librosa.effects.pitch_shift(data, 8000, n_steps)\n"
   ],
   "outputs": [],
   "metadata": {}
  },
  {
   "cell_type": "markdown",
   "source": [
    "## DataGenerator\n"
   ],
   "metadata": {}
  },
  {
   "cell_type": "code",
   "execution_count": 123,
   "source": [
    "class DataGenerator(tf.keras.utils.Sequence):\n",
    "    def __init__(self, data, sr, batch_size=32, shuffle=True):\n",
    "        self.data = data      # Data Augmentation\n",
    "        self.sr = sr\n",
    "        self.batch_size = batch_size / 4      # Data Augmentation\n",
    "        self.audio_augment = AudioAugment()\n",
    "        self.len = int(np.floor(data.shape[0]/ self.batch_size))\n",
    "        self.shuffle = shuffle\n",
    "        self.on_epoch_end()\n",
    "\n",
    "    def __len__(self):\n",
    "        return self.len\n",
    "\n",
    "    def __data_generation(self, batch_data):\n",
    "\n",
    "        longest_audio = int(batch_data[\"duration\"].max() * self.sr)\n",
    "        longest_trans = int(batch_data[\"char_length\"].max())\n",
    "\n",
    "        X_audio = np.zeros([int(self.batch_size * 4), longest_audio], dtype=\"float32\")\n",
    "        y_trans = np.ones([int(self.batch_size * 4), longest_trans], dtype=\"int64\")\n",
    "        X_length = np.ones([int(self.batch_size * 4), 1], dtype=\"int64\") * longest_audio\n",
    "        y_length = np.zeros([int(self.batch_size * 4), 1], dtype=\"int64\")\n",
    "\n",
    "        i = 0\n",
    "        for col, row in batch_data.iterrows():\n",
    "\n",
    "            # Add transcription\n",
    "            transcription = tf.convert_to_tensor(tokenizer.text_to_tokens(row[\"text\"], padding=True)[:, :longest_trans])\n",
    "            y_trans[i,] = y_trans[i + 1,] = y_trans[i + 2,] = y_trans[i + 3,] = transcription\n",
    "            y_length[i] = y_length[i + 1] = y_length[i + 2] = y_length[i + 3] = row[\"char_length\"]\n",
    "\n",
    "            # Add original Audio\n",
    "            wav = np.load(row[\"path\"])\n",
    "            audio_length = int(row[\"duration\"] * self.sr)\n",
    "            X_audio[i, :audio_length] = wav\n",
    "            i += 1\n",
    "\n",
    "            # Add noise\n",
    "            wav_ = self.audio_augment.add_noise(wav)\n",
    "            X_audio[i, :audio_length] = wav_\n",
    "            i += 1\n",
    "\n",
    "            # Add noise\n",
    "            wav_ = self.audio_augment.add_noise(wav)\n",
    "            X_audio[i, :audio_length] = wav_\n",
    "            i += 1\n",
    "\n",
    "            # # Pitch change\n",
    "            # wav_ = self.audio_augment.change_pitch(wav)\n",
    "            # X_audio[i, :audio_length] = wav_\n",
    "            # i+=1\n",
    "\n",
    "            # Speed change\n",
    "            wav_ = self.audio_augment.change_speed(wav)\n",
    "            X_audio[i, :audio_length] = wav_\n",
    "            i += 1\n",
    "\n",
    "        outputs = {'ctc': tf.zeros(([int(self.batch_size * 4)]), dtype=tf.dtypes.float32)}\n",
    "        inputs = {\n",
    "            'the_input': tf.convert_to_tensor(X_audio),\n",
    "            'the_labels': tf.convert_to_tensor(y_trans),\n",
    "            'input_length': tf.convert_to_tensor(X_length, dtype=\"float32\"),\n",
    "            'label_length': tf.convert_to_tensor(y_length)\n",
    "        }\n",
    "        return (inputs, outputs)\n",
    "\n",
    "    def on_epoch_end(self):\n",
    "\n",
    "        self.indexes = np.arange(self.len * self.batch_size)\n",
    "\n",
    "        if self.shuffle == True:\n",
    "\n",
    "            self.indexes = self.indexes.reshape(int(self.len), int(self.batch_size))\n",
    "            np.random.shuffle(self.indexes)\n",
    "\n",
    "            for i in range(self.len):\n",
    "                np.random.shuffle(self.indexes[i])\n",
    "\n",
    "            self.indexes = self.indexes.reshape(int(self.len * self.batch_size))\n",
    "\n",
    "    def __getitem__(self, index):\n",
    "        indexes = self.indexes[int(index * self.batch_size):int((index + 1) * self.batch_size)]\n",
    "        batch_data = self.data.iloc[indexes]\n",
    "        return self.__data_generation(batch_data)\n"
   ],
   "outputs": [],
   "metadata": {}
  },
  {
   "cell_type": "code",
   "execution_count": 124,
   "source": [
    "sr = 8000\n",
    "batch_size = 128\n",
    "sample_generator = DataGenerator(data, sr, batch_size, False)"
   ],
   "outputs": [],
   "metadata": {}
  },
  {
   "cell_type": "code",
   "execution_count": 100,
   "source": [
    "sample_generator.__len__()"
   ],
   "outputs": [
    {
     "output_type": "execute_result",
     "data": {
      "text/plain": [
       "333"
      ]
     },
     "metadata": {},
     "execution_count": 100
    }
   ],
   "metadata": {}
  },
  {
   "cell_type": "code",
   "execution_count": 125,
   "source": [
    "%%time\n",
    "sample_data = sample_generator.__getitem__(261)"
   ],
   "outputs": [
    {
     "output_type": "stream",
     "name": "stdout",
     "text": [
      "CPU times: user 277 ms, sys: 31.1 ms, total: 308 ms\n",
      "Wall time: 413 ms\n"
     ]
    }
   ],
   "metadata": {}
  },
  {
   "cell_type": "code",
   "execution_count": 126,
   "source": [
    "sample_audios = sample_data[0][\"the_input\"]\n",
    "sample_labels = sample_data[0][\"the_labels\"]\n",
    "sample_audios_length = sample_data[0][\"input_length\"]\n",
    "sample_labels_length = sample_data[0][\"label_length\"]"
   ],
   "outputs": [],
   "metadata": {}
  },
  {
   "cell_type": "code",
   "execution_count": 127,
   "source": [
    "print(sample_audios.shape)\n",
    "print(sample_labels.shape)\n",
    "print(sample_audios_length.shape)\n",
    "print(sample_labels_length.shape)"
   ],
   "outputs": [
    {
     "output_type": "stream",
     "name": "stdout",
     "text": [
      "(128, 67584)\n",
      "(128, 98)\n",
      "(128, 1)\n",
      "(128, 1)\n"
     ]
    }
   ],
   "metadata": {}
  },
  {
   "cell_type": "code",
   "execution_count": 128,
   "source": [
    "sample_labels[0]\n"
   ],
   "outputs": [
    {
     "output_type": "execute_result",
     "data": {
      "text/plain": [
       "<tf.Tensor: shape=(98,), dtype=int64, numpy=\n",
       "array([ 24,   9,  11,  44,   1,  19,  26,  65,   1,  64,   2, 101,   2,\n",
       "        26,   8,   2,   1,  12,   2,  38,  35,  95,   3,   1,   7,  53,\n",
       "        76,   6,   1, 139, 108,  70,  66,   2,   1,  33,   2,  19,  48,\n",
       "         1,  10,  29,  22,   1,   8,  21,  11,  30, 143,   1,  15,  21,\n",
       "       134,   3,   1,  30, 107,   1,  30, 107,   1,  24,  18,  21,  27,\n",
       "        11,   0,   0,   0,   0,   0,   0,   0,   0,   0,   0,   0,   0,\n",
       "         0,   0,   0,   0,   0,   0,   0,   0,   0,   0,   0,   0,   0,\n",
       "         0,   0,   0,   0,   0,   0,   0])>"
      ]
     },
     "metadata": {},
     "execution_count": 128
    }
   ],
   "metadata": {}
  },
  {
   "cell_type": "code",
   "execution_count": 131,
   "source": [
    "print(tokenizer.tokens_to_string(sample_labels[0].numpy()))\n",
    "audio_vis.play_audio(sample_audios[0], sr)"
   ],
   "outputs": [
    {
     "output_type": "stream",
     "name": "stdout",
     "text": [
      "ይበልጥ ደግሞ ሀንቲንግተን እንዳወሱት የሩሲያ ፌዴሬሽን ሰንደቅ አላማ ተገልብጦ መገኘት ብዙ ብዙ ይናገራል\n"
     ]
    },
    {
     "output_type": "error",
     "ename": "TypeError",
     "evalue": "play_audio() got an unexpected keyword argument 'rate'",
     "traceback": [
      "\u001b[0;31m---------------------------------------------------------------------------\u001b[0m",
      "\u001b[0;31mTypeError\u001b[0m                                 Traceback (most recent call last)",
      "\u001b[0;32m/var/folders/g9/42gvsspd50xb9dstjnwqm1wr0000gn/T/ipykernel_17639/1734924910.py\u001b[0m in \u001b[0;36m<module>\u001b[0;34m\u001b[0m\n\u001b[1;32m      1\u001b[0m \u001b[0mprint\u001b[0m\u001b[0;34m(\u001b[0m\u001b[0mtokenizer\u001b[0m\u001b[0;34m.\u001b[0m\u001b[0mtokens_to_string\u001b[0m\u001b[0;34m(\u001b[0m\u001b[0msample_labels\u001b[0m\u001b[0;34m[\u001b[0m\u001b[0;36m0\u001b[0m\u001b[0;34m]\u001b[0m\u001b[0;34m.\u001b[0m\u001b[0mnumpy\u001b[0m\u001b[0;34m(\u001b[0m\u001b[0;34m)\u001b[0m\u001b[0;34m)\u001b[0m\u001b[0;34m)\u001b[0m\u001b[0;34m\u001b[0m\u001b[0;34m\u001b[0m\u001b[0m\n\u001b[0;32m----> 2\u001b[0;31m \u001b[0maudio_vis\u001b[0m\u001b[0;34m.\u001b[0m\u001b[0mplay_audio\u001b[0m\u001b[0;34m(\u001b[0m\u001b[0msample_audios\u001b[0m\u001b[0;34m[\u001b[0m\u001b[0;36m0\u001b[0m\u001b[0;34m]\u001b[0m\u001b[0;34m,\u001b[0m \u001b[0mrate\u001b[0m\u001b[0;34m=\u001b[0m\u001b[0msr\u001b[0m\u001b[0;34m)\u001b[0m\u001b[0;34m\u001b[0m\u001b[0;34m\u001b[0m\u001b[0m\n\u001b[0m",
      "\u001b[0;31mTypeError\u001b[0m: play_audio() got an unexpected keyword argument 'rate'"
     ]
    }
   ],
   "metadata": {}
  }
 ],
 "metadata": {
  "orig_nbformat": 4,
  "language_info": {
   "name": "python",
   "version": "3.8.2",
   "mimetype": "text/x-python",
   "codemirror_mode": {
    "name": "ipython",
    "version": 3
   },
   "pygments_lexer": "ipython3",
   "nbconvert_exporter": "python",
   "file_extension": ".py"
  },
  "kernelspec": {
   "name": "python3",
   "display_name": "Python 3.8.2 64-bit ('env': venv)"
  },
  "interpreter": {
   "hash": "a19a43a1a3446d00bf3142d3471365a00f919c4d4295bfac1b68bf8cb7a6fbbb"
  }
 },
 "nbformat": 4,
 "nbformat_minor": 2
}